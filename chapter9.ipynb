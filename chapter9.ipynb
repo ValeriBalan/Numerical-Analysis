{
 "cells": [
  {
   "cell_type": "code",
   "execution_count": 1,
   "metadata": {},
   "outputs": [],
   "source": [
    "def my_bin_2_dec(b):\n",
    "    decimal_value = 0\n",
    "    power = 0\n",
    "    for bit in reversed(b):\n",
    "        decimal_value += bit * (2 ** power)\n",
    "        power += 1\n",
    "    return decimal_value"
   ]
  },
  {
   "cell_type": "code",
   "execution_count": 4,
   "metadata": {},
   "outputs": [
    {
     "data": {
      "text/plain": [
       "33554431"
      ]
     },
     "execution_count": 4,
     "metadata": {},
     "output_type": "execute_result"
    }
   ],
   "source": [
    "my_bin_2_dec([1]*25)"
   ]
  },
  {
   "cell_type": "code",
   "execution_count": 5,
   "metadata": {},
   "outputs": [],
   "source": [
    "def my_dec_2_bin(d):\n",
    "    if d == 0:\n",
    "        return [0]\n",
    "    binary_list = []\n",
    "    while d > 0:\n",
    "        binary_list.append(d % 2)\n",
    "        d //= 2\n",
    "    binary_list.reverse()\n",
    "    return binary_list"
   ]
  },
  {
   "cell_type": "code",
   "execution_count": 8,
   "metadata": {},
   "outputs": [
    {
     "data": {
      "text/plain": [
       "[1, 0, 0, 0, 0, 0, 1, 1, 0, 0, 0, 1]"
      ]
     },
     "execution_count": 8,
     "metadata": {},
     "output_type": "execute_result"
    }
   ],
   "source": [
    "my_dec_2_bin(2097)"
   ]
  },
  {
   "cell_type": "code",
   "execution_count": 9,
   "metadata": {},
   "outputs": [
    {
     "data": {
      "text/plain": [
       "12654"
      ]
     },
     "execution_count": 9,
     "metadata": {},
     "output_type": "execute_result"
    }
   ],
   "source": [
    "my_bin_2_dec(my_dec_2_bin(12654))"
   ]
  },
  {
   "cell_type": "code",
   "execution_count": 10,
   "metadata": {},
   "outputs": [],
   "source": [
    "def my_bin_adder(b1, b2):\n",
    "    max_len = max(len(b1), len(b2))\n",
    "    b1 = [0] * (max_len - len(b1)) + b1\n",
    "    b2 = [0] * (max_len - len(b2)) + b2\n",
    "    carry = 0\n",
    "    result = []\n",
    "    for i in range(max_len - 1, -1, -1):\n",
    "        sum_bits = b1[i] + b2[i] + carry\n",
    "        if sum_bits == 0:\n",
    "            result.insert(0, 0)\n",
    "            carry = 0\n",
    "        elif sum_bits == 1:\n",
    "            result.insert(0, 1)\n",
    "            carry = 0\n",
    "        elif sum_bits == 2:\n",
    "            result.insert(0, 0)\n",
    "            carry = 1\n",
    "        elif sum_bits == 3:\n",
    "            result.insert(0, 1)\n",
    "            carry = 1\n",
    "    if carry == 1:\n",
    "        result.insert(0, 1)\n",
    "    \n",
    "    return result\n"
   ]
  },
  {
   "cell_type": "code",
   "execution_count": 13,
   "metadata": {},
   "outputs": [
    {
     "data": {
      "text/plain": [
       "[1, 0, 1, 1]"
      ]
     },
     "execution_count": 13,
     "metadata": {},
     "output_type": "execute_result"
    }
   ],
   "source": [
    "my_bin_adder([1, 1, 0], [1, 0, 1])"
   ]
  },
  {
   "cell_type": "code",
   "execution_count": 14,
   "metadata": {},
   "outputs": [],
   "source": [
    "def my_ieee_2_dec(ieee):\n",
    " \n",
    "    if len(ieee) != 64:\n",
    "        raise ValueError(\"Input string must be 64 characters long.\")\n",
    "    \n",
    "    sign_bit = int(ieee[0])\n",
    "\n",
    "    exponent_bits = ieee[1:12]\n",
    "    exponent = int(exponent_bits, 2)\n",
    "    \n",
    "    fraction_bits = ieee[12:]\n",
    "\n",
    "    bias = 1023\n",
    "    \n",
    "    exponent_value = exponent - bias\n",
    "    \n",
    "    fraction_value = 1.0 \n",
    "    \n",
    "    for i, bit in enumerate(fraction_bits):\n",
    "        fraction_value += int(bit) * 2**(-(i+1))\n",
    "\n",
    "    decimal_value = fraction_value * 2**exponent_value\n",
    "\n",
    "    if sign_bit == 1:\n",
    "        decimal_value = -decimal_value\n",
    "\n",
    "    return decimal_value\n"
   ]
  },
  {
   "cell_type": "code",
   "execution_count": 16,
   "metadata": {},
   "outputs": [
    {
     "data": {
      "text/plain": [
       "3.4"
      ]
     },
     "execution_count": 16,
     "metadata": {},
     "output_type": "execute_result"
    }
   ],
   "source": [
    "ieee = '0100000000001011001100110011001100110011001100110011001100110011'\n",
    "my_ieee_2_dec(ieee)"
   ]
  },
  {
   "cell_type": "code",
   "execution_count": 24,
   "metadata": {},
   "outputs": [],
   "source": [
    "import struct\n",
    "\n",
    "def float_to_bin64(value):\n",
    "    packed_value = struct.pack('>d', value)  # Pack as big-endian double\n",
    "    unpacked_value = struct.unpack('>Q', packed_value)[0]  # Unpack as unsigned long long (64 bits)\n",
    "    return format(unpacked_value, '064b')  # Format as 64-bit binary\n",
    "\n",
    "def my_dec_2_ieee(d):\n",
    "    if d == 0:\n",
    "        return '0' * 64\n",
    "\n",
    "    ieee = float_to_bin64(d)\n",
    "    return ieee"
   ]
  },
  {
   "cell_type": "code",
   "execution_count": 27,
   "metadata": {},
   "outputs": [
    {
     "name": "stdout",
     "output_type": "stream",
     "text": [
      "1100000011011000101010010000000000000000000000000000000000000000\n"
     ]
    }
   ],
   "source": [
    "ieee_string = my_dec_2_ieee( -25252)\n",
    "print(ieee_string)"
   ]
  }
 ],
 "metadata": {
  "kernelspec": {
   "display_name": "Python 3",
   "language": "python",
   "name": "python3"
  },
  "language_info": {
   "codemirror_mode": {
    "name": "ipython",
    "version": 3
   },
   "file_extension": ".py",
   "mimetype": "text/x-python",
   "name": "python",
   "nbconvert_exporter": "python",
   "pygments_lexer": "ipython3",
   "version": "3.12.3"
  }
 },
 "nbformat": 4,
 "nbformat_minor": 2
}
